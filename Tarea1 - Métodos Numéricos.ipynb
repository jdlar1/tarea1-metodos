{
 "cells": [
  {
   "cell_type": "markdown",
   "id": "combined-camel",
   "metadata": {},
   "source": [
    "# Tarea 1 Métodos Numéricos {-}\n",
    "\n",
    "### Integrantes {-}\n",
    "\n",
    "- Juan Diego De la Rosa\n",
    "- Juan Pablo González\n",
    "- Isabella Gómez\n",
    "- Cristian Cortez"
   ]
  },
  {
   "cell_type": "markdown",
   "id": "comparable-stereo",
   "metadata": {},
   "source": [
    "## Punto 1 {-}"
   ]
  },
  {
   "cell_type": "markdown",
   "id": "beautiful-produce",
   "metadata": {},
   "source": [
    "## Punto 2 {-}"
   ]
  },
  {
   "cell_type": "markdown",
   "id": "frank-choir",
   "metadata": {},
   "source": [
    "## Punto 3 {-}"
   ]
  },
  {
   "cell_type": "markdown",
   "id": "upper-train",
   "metadata": {},
   "source": [
    "## Punto 4 {-}"
   ]
  },
  {
   "cell_type": "markdown",
   "id": "distributed-surveillance",
   "metadata": {},
   "source": [
    "## Punto 5 {-}\n",
    "\n",
    "En primer lugar se cargan los archivos de la siguiente manera"
   ]
  },
  {
   "cell_type": "markdown",
   "id": "invisible-dependence",
   "metadata": {},
   "source": [
    "## Punto 6 {-}"
   ]
  },
  {
   "cell_type": "code",
   "execution_count": 3,
   "id": "square-tonight",
   "metadata": {},
   "outputs": [],
   "source": [
    "import numpy as np"
   ]
  },
  {
   "cell_type": "code",
   "execution_count": 5,
   "id": "serial-boost",
   "metadata": {},
   "outputs": [],
   "source": [
    "pts = np.loadtxt('mallas/valle_aburra-quads.pts')/1000\n",
    "quads = np.loadtxt('mallas/valle_aburra-quads.quad', dtype=np.int64)"
   ]
  },
  {
   "cell_type": "code",
   "execution_count": 18,
   "id": "excessive-synthetic",
   "metadata": {},
   "outputs": [],
   "source": [
    "prim = pts[quads[0]]"
   ]
  },
  {
   "cell_type": "code",
   "execution_count": 22,
   "id": "chinese-while",
   "metadata": {},
   "outputs": [
    {
     "data": {
      "text/plain": [
       "array([0.  , 0.  , 0.09, 0.09])"
      ]
     },
     "execution_count": 22,
     "metadata": {},
     "output_type": "execute_result"
    }
   ],
   "source": [
    "prim[:, 0]"
   ]
  },
  {
   "cell_type": "code",
   "execution_count": 23,
   "id": "specialized-purple",
   "metadata": {},
   "outputs": [
    {
     "data": {
      "text/plain": [
       "array([[ 0.   , 24.39 ,  2.519],\n",
       "       [ 0.   , 24.3  ,  2.485],\n",
       "       [ 0.09 , 24.3  ,  2.548],\n",
       "       [ 0.09 , 24.39 ,  2.552]])"
      ]
     },
     "execution_count": 23,
     "metadata": {},
     "output_type": "execute_result"
    }
   ],
   "source": [
    "prim"
   ]
  },
  {
   "cell_type": "code",
   "execution_count": 26,
   "id": "cloudy-enforcement",
   "metadata": {},
   "outputs": [
    {
     "data": {
      "text/plain": [
       "array([[0., 0.],\n",
       "       [0., 0.]])"
      ]
     },
     "execution_count": 26,
     "metadata": {},
     "output_type": "execute_result"
    }
   ],
   "source": [
    "np.array([prim[:2, 0], prim[:2, 0]])"
   ]
  },
  {
   "cell_type": "code",
   "execution_count": 38,
   "id": "durable-siemens",
   "metadata": {},
   "outputs": [
    {
     "data": {
      "text/plain": [
       "array([[ 0.   , 24.39 ,  2.519],\n",
       "       [ 0.   , 24.3  ,  2.485],\n",
       "       [ 0.09 , 24.3  ,  2.548],\n",
       "       [ 0.09 , 24.39 ,  2.552]])"
      ]
     },
     "execution_count": 38,
     "metadata": {},
     "output_type": "execute_result"
    }
   ],
   "source": [
    "prim"
   ]
  },
  {
   "cell_type": "code",
   "execution_count": 43,
   "id": "endless-scholarship",
   "metadata": {},
   "outputs": [],
   "source": [
    "X = np.array(\n",
    "    [[0., 0.],\n",
    "     [0.09, 0.09]]\n",
    ")\n",
    "\n",
    "Y = np.array(\n",
    "    [[24.39, 24.3],\n",
    "     [24.39, 24.3]]\n",
    ")\n",
    "\n",
    "Z = np.array(\n",
    "    [[2.519, 2.485],\n",
    "     [2.548, 2.552]]\n",
    ")"
   ]
  },
  {
   "cell_type": "code",
   "execution_count": 54,
   "id": "understood-harvest",
   "metadata": {},
   "outputs": [
    {
     "data": {
      "text/plain": [
       "array([[24.39, 24.3 ],\n",
       "       [24.3 , 24.39]])"
      ]
     },
     "execution_count": 54,
     "metadata": {},
     "output_type": "execute_result"
    }
   ],
   "source": [
    "prim[:, 1].reshape(2,2)"
   ]
  },
  {
   "cell_type": "code",
   "execution_count": 66,
   "id": "competitive-philosophy",
   "metadata": {},
   "outputs": [
    {
     "data": {
      "text/plain": [
       "array([[24.39, 24.3 ],\n",
       "       [24.39, 24.3 ]])"
      ]
     },
     "execution_count": 66,
     "metadata": {},
     "output_type": "execute_result"
    }
   ],
   "source": [
    "np.array([prim[:2, 1], prim[:-2, 1]])"
   ]
  },
  {
   "cell_type": "code",
   "execution_count": 68,
   "id": "delayed-porcelain",
   "metadata": {},
   "outputs": [
    {
     "data": {
      "text/plain": [
       "array([[    0,   173,   174,     1],\n",
       "       [    1,   174,   175,     2],\n",
       "       [    2,   175,   176,     3],\n",
       "       ...,\n",
       "       [46879, 47052, 47053, 46880],\n",
       "       [46880, 47053, 47054, 46881],\n",
       "       [46881, 47054, 47055, 46882]])"
      ]
     },
     "execution_count": 68,
     "metadata": {},
     "output_type": "execute_result"
    }
   ],
   "source": [
    "quads"
   ]
  },
  {
   "cell_type": "code",
   "execution_count": 75,
   "id": "accessory-ribbon",
   "metadata": {},
   "outputs": [
    {
     "data": {
      "text/plain": [
       "array([[0., 0.],\n",
       "       [0., 0.]])"
      ]
     },
     "metadata": {},
     "output_type": "display_data"
    },
    {
     "data": {
      "text/plain": [
       "array([[24.39, 24.3 ],\n",
       "       [24.39, 24.3 ]])"
      ]
     },
     "metadata": {},
     "output_type": "display_data"
    },
    {
     "data": {
      "text/plain": [
       "array([[2.519, 2.485],\n",
       "       [2.519, 2.485]])"
      ]
     },
     "metadata": {},
     "output_type": "display_data"
    },
    {
     "data": {
      "text/plain": [
       "array([[0.09, 0.09],\n",
       "       [0.09, 0.09]])"
      ]
     },
     "metadata": {},
     "output_type": "display_data"
    },
    {
     "data": {
      "text/plain": [
       "array([[24.39, 24.3 ],\n",
       "       [24.39, 24.3 ]])"
      ]
     },
     "metadata": {},
     "output_type": "display_data"
    },
    {
     "data": {
      "text/plain": [
       "array([[2.552, 2.548],\n",
       "       [2.552, 2.548]])"
      ]
     },
     "metadata": {},
     "output_type": "display_data"
    }
   ],
   "source": [
    "for quad in quads[:1]:\n",
    "    \n",
    "    points = pts[quad]\n",
    "    \n",
    "    X = np.array([points[:2, 0], points[:-2, 0]])\n",
    "    Y = np.array([points[:2, 1], points[:-2, 1]])\n",
    "    Z = np.array([points[:2, 2], points[:-2, 2]])\n",
    "    \n",
    "    display(X, Y, Z)"
   ]
  },
  {
   "cell_type": "code",
   "execution_count": 73,
   "id": "primary-membrane",
   "metadata": {},
   "outputs": [
    {
     "data": {
      "text/plain": [
       "1"
      ]
     },
     "metadata": {},
     "output_type": "display_data"
    }
   ],
   "source": [
    "display(1)"
   ]
  },
  {
   "cell_type": "code",
   "execution_count": 181,
   "id": "chief-classics",
   "metadata": {},
   "outputs": [
    {
     "data": {
      "application/javascript": [
       "/* Put everything inside the global mpl namespace */\n",
       "/* global mpl */\n",
       "window.mpl = {};\n",
       "\n",
       "mpl.get_websocket_type = function () {\n",
       "    if (typeof WebSocket !== 'undefined') {\n",
       "        return WebSocket;\n",
       "    } else if (typeof MozWebSocket !== 'undefined') {\n",
       "        return MozWebSocket;\n",
       "    } else {\n",
       "        alert(\n",
       "            'Your browser does not have WebSocket support. ' +\n",
       "                'Please try Chrome, Safari or Firefox ≥ 6. ' +\n",
       "                'Firefox 4 and 5 are also supported but you ' +\n",
       "                'have to enable WebSockets in about:config.'\n",
       "        );\n",
       "    }\n",
       "};\n",
       "\n",
       "mpl.figure = function (figure_id, websocket, ondownload, parent_element) {\n",
       "    this.id = figure_id;\n",
       "\n",
       "    this.ws = websocket;\n",
       "\n",
       "    this.supports_binary = this.ws.binaryType !== undefined;\n",
       "\n",
       "    if (!this.supports_binary) {\n",
       "        var warnings = document.getElementById('mpl-warnings');\n",
       "        if (warnings) {\n",
       "            warnings.style.display = 'block';\n",
       "            warnings.textContent =\n",
       "                'This browser does not support binary websocket messages. ' +\n",
       "                'Performance may be slow.';\n",
       "        }\n",
       "    }\n",
       "\n",
       "    this.imageObj = new Image();\n",
       "\n",
       "    this.context = undefined;\n",
       "    this.message = undefined;\n",
       "    this.canvas = undefined;\n",
       "    this.rubberband_canvas = undefined;\n",
       "    this.rubberband_context = undefined;\n",
       "    this.format_dropdown = undefined;\n",
       "\n",
       "    this.image_mode = 'full';\n",
       "\n",
       "    this.root = document.createElement('div');\n",
       "    this.root.setAttribute('style', 'display: inline-block');\n",
       "    this._root_extra_style(this.root);\n",
       "\n",
       "    parent_element.appendChild(this.root);\n",
       "\n",
       "    this._init_header(this);\n",
       "    this._init_canvas(this);\n",
       "    this._init_toolbar(this);\n",
       "\n",
       "    var fig = this;\n",
       "\n",
       "    this.waiting = false;\n",
       "\n",
       "    this.ws.onopen = function () {\n",
       "        fig.send_message('supports_binary', { value: fig.supports_binary });\n",
       "        fig.send_message('send_image_mode', {});\n",
       "        if (fig.ratio !== 1) {\n",
       "            fig.send_message('set_dpi_ratio', { dpi_ratio: fig.ratio });\n",
       "        }\n",
       "        fig.send_message('refresh', {});\n",
       "    };\n",
       "\n",
       "    this.imageObj.onload = function () {\n",
       "        if (fig.image_mode === 'full') {\n",
       "            // Full images could contain transparency (where diff images\n",
       "            // almost always do), so we need to clear the canvas so that\n",
       "            // there is no ghosting.\n",
       "            fig.context.clearRect(0, 0, fig.canvas.width, fig.canvas.height);\n",
       "        }\n",
       "        fig.context.drawImage(fig.imageObj, 0, 0);\n",
       "    };\n",
       "\n",
       "    this.imageObj.onunload = function () {\n",
       "        fig.ws.close();\n",
       "    };\n",
       "\n",
       "    this.ws.onmessage = this._make_on_message_function(this);\n",
       "\n",
       "    this.ondownload = ondownload;\n",
       "};\n",
       "\n",
       "mpl.figure.prototype._init_header = function () {\n",
       "    var titlebar = document.createElement('div');\n",
       "    titlebar.classList =\n",
       "        'ui-dialog-titlebar ui-widget-header ui-corner-all ui-helper-clearfix';\n",
       "    var titletext = document.createElement('div');\n",
       "    titletext.classList = 'ui-dialog-title';\n",
       "    titletext.setAttribute(\n",
       "        'style',\n",
       "        'width: 100%; text-align: center; padding: 3px;'\n",
       "    );\n",
       "    titlebar.appendChild(titletext);\n",
       "    this.root.appendChild(titlebar);\n",
       "    this.header = titletext;\n",
       "};\n",
       "\n",
       "mpl.figure.prototype._canvas_extra_style = function (_canvas_div) {};\n",
       "\n",
       "mpl.figure.prototype._root_extra_style = function (_canvas_div) {};\n",
       "\n",
       "mpl.figure.prototype._init_canvas = function () {\n",
       "    var fig = this;\n",
       "\n",
       "    var canvas_div = (this.canvas_div = document.createElement('div'));\n",
       "    canvas_div.setAttribute(\n",
       "        'style',\n",
       "        'border: 1px solid #ddd;' +\n",
       "            'box-sizing: content-box;' +\n",
       "            'clear: both;' +\n",
       "            'min-height: 1px;' +\n",
       "            'min-width: 1px;' +\n",
       "            'outline: 0;' +\n",
       "            'overflow: hidden;' +\n",
       "            'position: relative;' +\n",
       "            'resize: both;'\n",
       "    );\n",
       "\n",
       "    function on_keyboard_event_closure(name) {\n",
       "        return function (event) {\n",
       "            return fig.key_event(event, name);\n",
       "        };\n",
       "    }\n",
       "\n",
       "    canvas_div.addEventListener(\n",
       "        'keydown',\n",
       "        on_keyboard_event_closure('key_press')\n",
       "    );\n",
       "    canvas_div.addEventListener(\n",
       "        'keyup',\n",
       "        on_keyboard_event_closure('key_release')\n",
       "    );\n",
       "\n",
       "    this._canvas_extra_style(canvas_div);\n",
       "    this.root.appendChild(canvas_div);\n",
       "\n",
       "    var canvas = (this.canvas = document.createElement('canvas'));\n",
       "    canvas.classList.add('mpl-canvas');\n",
       "    canvas.setAttribute('style', 'box-sizing: content-box;');\n",
       "\n",
       "    this.context = canvas.getContext('2d');\n",
       "\n",
       "    var backingStore =\n",
       "        this.context.backingStorePixelRatio ||\n",
       "        this.context.webkitBackingStorePixelRatio ||\n",
       "        this.context.mozBackingStorePixelRatio ||\n",
       "        this.context.msBackingStorePixelRatio ||\n",
       "        this.context.oBackingStorePixelRatio ||\n",
       "        this.context.backingStorePixelRatio ||\n",
       "        1;\n",
       "\n",
       "    this.ratio = (window.devicePixelRatio || 1) / backingStore;\n",
       "\n",
       "    var rubberband_canvas = (this.rubberband_canvas = document.createElement(\n",
       "        'canvas'\n",
       "    ));\n",
       "    rubberband_canvas.setAttribute(\n",
       "        'style',\n",
       "        'box-sizing: content-box; position: absolute; left: 0; top: 0; z-index: 1;'\n",
       "    );\n",
       "\n",
       "    // Apply a ponyfill if ResizeObserver is not implemented by browser.\n",
       "    if (this.ResizeObserver === undefined) {\n",
       "        if (window.ResizeObserver !== undefined) {\n",
       "            this.ResizeObserver = window.ResizeObserver;\n",
       "        } else {\n",
       "            var obs = _JSXTOOLS_RESIZE_OBSERVER({});\n",
       "            this.ResizeObserver = obs.ResizeObserver;\n",
       "        }\n",
       "    }\n",
       "\n",
       "    this.resizeObserverInstance = new this.ResizeObserver(function (entries) {\n",
       "        var nentries = entries.length;\n",
       "        for (var i = 0; i < nentries; i++) {\n",
       "            var entry = entries[i];\n",
       "            var width, height;\n",
       "            if (entry.contentBoxSize) {\n",
       "                if (entry.contentBoxSize instanceof Array) {\n",
       "                    // Chrome 84 implements new version of spec.\n",
       "                    width = entry.contentBoxSize[0].inlineSize;\n",
       "                    height = entry.contentBoxSize[0].blockSize;\n",
       "                } else {\n",
       "                    // Firefox implements old version of spec.\n",
       "                    width = entry.contentBoxSize.inlineSize;\n",
       "                    height = entry.contentBoxSize.blockSize;\n",
       "                }\n",
       "            } else {\n",
       "                // Chrome <84 implements even older version of spec.\n",
       "                width = entry.contentRect.width;\n",
       "                height = entry.contentRect.height;\n",
       "            }\n",
       "\n",
       "            // Keep the size of the canvas and rubber band canvas in sync with\n",
       "            // the canvas container.\n",
       "            if (entry.devicePixelContentBoxSize) {\n",
       "                // Chrome 84 implements new version of spec.\n",
       "                canvas.setAttribute(\n",
       "                    'width',\n",
       "                    entry.devicePixelContentBoxSize[0].inlineSize\n",
       "                );\n",
       "                canvas.setAttribute(\n",
       "                    'height',\n",
       "                    entry.devicePixelContentBoxSize[0].blockSize\n",
       "                );\n",
       "            } else {\n",
       "                canvas.setAttribute('width', width * fig.ratio);\n",
       "                canvas.setAttribute('height', height * fig.ratio);\n",
       "            }\n",
       "            canvas.setAttribute(\n",
       "                'style',\n",
       "                'width: ' + width + 'px; height: ' + height + 'px;'\n",
       "            );\n",
       "\n",
       "            rubberband_canvas.setAttribute('width', width);\n",
       "            rubberband_canvas.setAttribute('height', height);\n",
       "\n",
       "            // And update the size in Python. We ignore the initial 0/0 size\n",
       "            // that occurs as the element is placed into the DOM, which should\n",
       "            // otherwise not happen due to the minimum size styling.\n",
       "            if (fig.ws.readyState == 1 && width != 0 && height != 0) {\n",
       "                fig.request_resize(width, height);\n",
       "            }\n",
       "        }\n",
       "    });\n",
       "    this.resizeObserverInstance.observe(canvas_div);\n",
       "\n",
       "    function on_mouse_event_closure(name) {\n",
       "        return function (event) {\n",
       "            return fig.mouse_event(event, name);\n",
       "        };\n",
       "    }\n",
       "\n",
       "    rubberband_canvas.addEventListener(\n",
       "        'mousedown',\n",
       "        on_mouse_event_closure('button_press')\n",
       "    );\n",
       "    rubberband_canvas.addEventListener(\n",
       "        'mouseup',\n",
       "        on_mouse_event_closure('button_release')\n",
       "    );\n",
       "    // Throttle sequential mouse events to 1 every 20ms.\n",
       "    rubberband_canvas.addEventListener(\n",
       "        'mousemove',\n",
       "        on_mouse_event_closure('motion_notify')\n",
       "    );\n",
       "\n",
       "    rubberband_canvas.addEventListener(\n",
       "        'mouseenter',\n",
       "        on_mouse_event_closure('figure_enter')\n",
       "    );\n",
       "    rubberband_canvas.addEventListener(\n",
       "        'mouseleave',\n",
       "        on_mouse_event_closure('figure_leave')\n",
       "    );\n",
       "\n",
       "    canvas_div.addEventListener('wheel', function (event) {\n",
       "        if (event.deltaY < 0) {\n",
       "            event.step = 1;\n",
       "        } else {\n",
       "            event.step = -1;\n",
       "        }\n",
       "        on_mouse_event_closure('scroll')(event);\n",
       "    });\n",
       "\n",
       "    canvas_div.appendChild(canvas);\n",
       "    canvas_div.appendChild(rubberband_canvas);\n",
       "\n",
       "    this.rubberband_context = rubberband_canvas.getContext('2d');\n",
       "    this.rubberband_context.strokeStyle = '#000000';\n",
       "\n",
       "    this._resize_canvas = function (width, height, forward) {\n",
       "        if (forward) {\n",
       "            canvas_div.style.width = width + 'px';\n",
       "            canvas_div.style.height = height + 'px';\n",
       "        }\n",
       "    };\n",
       "\n",
       "    // Disable right mouse context menu.\n",
       "    this.rubberband_canvas.addEventListener('contextmenu', function (_e) {\n",
       "        event.preventDefault();\n",
       "        return false;\n",
       "    });\n",
       "\n",
       "    function set_focus() {\n",
       "        canvas.focus();\n",
       "        canvas_div.focus();\n",
       "    }\n",
       "\n",
       "    window.setTimeout(set_focus, 100);\n",
       "};\n",
       "\n",
       "mpl.figure.prototype._init_toolbar = function () {\n",
       "    var fig = this;\n",
       "\n",
       "    var toolbar = document.createElement('div');\n",
       "    toolbar.classList = 'mpl-toolbar';\n",
       "    this.root.appendChild(toolbar);\n",
       "\n",
       "    function on_click_closure(name) {\n",
       "        return function (_event) {\n",
       "            return fig.toolbar_button_onclick(name);\n",
       "        };\n",
       "    }\n",
       "\n",
       "    function on_mouseover_closure(tooltip) {\n",
       "        return function (event) {\n",
       "            if (!event.currentTarget.disabled) {\n",
       "                return fig.toolbar_button_onmouseover(tooltip);\n",
       "            }\n",
       "        };\n",
       "    }\n",
       "\n",
       "    fig.buttons = {};\n",
       "    var buttonGroup = document.createElement('div');\n",
       "    buttonGroup.classList = 'mpl-button-group';\n",
       "    for (var toolbar_ind in mpl.toolbar_items) {\n",
       "        var name = mpl.toolbar_items[toolbar_ind][0];\n",
       "        var tooltip = mpl.toolbar_items[toolbar_ind][1];\n",
       "        var image = mpl.toolbar_items[toolbar_ind][2];\n",
       "        var method_name = mpl.toolbar_items[toolbar_ind][3];\n",
       "\n",
       "        if (!name) {\n",
       "            /* Instead of a spacer, we start a new button group. */\n",
       "            if (buttonGroup.hasChildNodes()) {\n",
       "                toolbar.appendChild(buttonGroup);\n",
       "            }\n",
       "            buttonGroup = document.createElement('div');\n",
       "            buttonGroup.classList = 'mpl-button-group';\n",
       "            continue;\n",
       "        }\n",
       "\n",
       "        var button = (fig.buttons[name] = document.createElement('button'));\n",
       "        button.classList = 'mpl-widget';\n",
       "        button.setAttribute('role', 'button');\n",
       "        button.setAttribute('aria-disabled', 'false');\n",
       "        button.addEventListener('click', on_click_closure(method_name));\n",
       "        button.addEventListener('mouseover', on_mouseover_closure(tooltip));\n",
       "\n",
       "        var icon_img = document.createElement('img');\n",
       "        icon_img.src = '_images/' + image + '.png';\n",
       "        icon_img.srcset = '_images/' + image + '_large.png 2x';\n",
       "        icon_img.alt = tooltip;\n",
       "        button.appendChild(icon_img);\n",
       "\n",
       "        buttonGroup.appendChild(button);\n",
       "    }\n",
       "\n",
       "    if (buttonGroup.hasChildNodes()) {\n",
       "        toolbar.appendChild(buttonGroup);\n",
       "    }\n",
       "\n",
       "    var fmt_picker = document.createElement('select');\n",
       "    fmt_picker.classList = 'mpl-widget';\n",
       "    toolbar.appendChild(fmt_picker);\n",
       "    this.format_dropdown = fmt_picker;\n",
       "\n",
       "    for (var ind in mpl.extensions) {\n",
       "        var fmt = mpl.extensions[ind];\n",
       "        var option = document.createElement('option');\n",
       "        option.selected = fmt === mpl.default_extension;\n",
       "        option.innerHTML = fmt;\n",
       "        fmt_picker.appendChild(option);\n",
       "    }\n",
       "\n",
       "    var status_bar = document.createElement('span');\n",
       "    status_bar.classList = 'mpl-message';\n",
       "    toolbar.appendChild(status_bar);\n",
       "    this.message = status_bar;\n",
       "};\n",
       "\n",
       "mpl.figure.prototype.request_resize = function (x_pixels, y_pixels) {\n",
       "    // Request matplotlib to resize the figure. Matplotlib will then trigger a resize in the client,\n",
       "    // which will in turn request a refresh of the image.\n",
       "    this.send_message('resize', { width: x_pixels, height: y_pixels });\n",
       "};\n",
       "\n",
       "mpl.figure.prototype.send_message = function (type, properties) {\n",
       "    properties['type'] = type;\n",
       "    properties['figure_id'] = this.id;\n",
       "    this.ws.send(JSON.stringify(properties));\n",
       "};\n",
       "\n",
       "mpl.figure.prototype.send_draw_message = function () {\n",
       "    if (!this.waiting) {\n",
       "        this.waiting = true;\n",
       "        this.ws.send(JSON.stringify({ type: 'draw', figure_id: this.id }));\n",
       "    }\n",
       "};\n",
       "\n",
       "mpl.figure.prototype.handle_save = function (fig, _msg) {\n",
       "    var format_dropdown = fig.format_dropdown;\n",
       "    var format = format_dropdown.options[format_dropdown.selectedIndex].value;\n",
       "    fig.ondownload(fig, format);\n",
       "};\n",
       "\n",
       "mpl.figure.prototype.handle_resize = function (fig, msg) {\n",
       "    var size = msg['size'];\n",
       "    if (size[0] !== fig.canvas.width || size[1] !== fig.canvas.height) {\n",
       "        fig._resize_canvas(size[0], size[1], msg['forward']);\n",
       "        fig.send_message('refresh', {});\n",
       "    }\n",
       "};\n",
       "\n",
       "mpl.figure.prototype.handle_rubberband = function (fig, msg) {\n",
       "    var x0 = msg['x0'] / fig.ratio;\n",
       "    var y0 = (fig.canvas.height - msg['y0']) / fig.ratio;\n",
       "    var x1 = msg['x1'] / fig.ratio;\n",
       "    var y1 = (fig.canvas.height - msg['y1']) / fig.ratio;\n",
       "    x0 = Math.floor(x0) + 0.5;\n",
       "    y0 = Math.floor(y0) + 0.5;\n",
       "    x1 = Math.floor(x1) + 0.5;\n",
       "    y1 = Math.floor(y1) + 0.5;\n",
       "    var min_x = Math.min(x0, x1);\n",
       "    var min_y = Math.min(y0, y1);\n",
       "    var width = Math.abs(x1 - x0);\n",
       "    var height = Math.abs(y1 - y0);\n",
       "\n",
       "    fig.rubberband_context.clearRect(\n",
       "        0,\n",
       "        0,\n",
       "        fig.canvas.width / fig.ratio,\n",
       "        fig.canvas.height / fig.ratio\n",
       "    );\n",
       "\n",
       "    fig.rubberband_context.strokeRect(min_x, min_y, width, height);\n",
       "};\n",
       "\n",
       "mpl.figure.prototype.handle_figure_label = function (fig, msg) {\n",
       "    // Updates the figure title.\n",
       "    fig.header.textContent = msg['label'];\n",
       "};\n",
       "\n",
       "mpl.figure.prototype.handle_cursor = function (fig, msg) {\n",
       "    var cursor = msg['cursor'];\n",
       "    switch (cursor) {\n",
       "        case 0:\n",
       "            cursor = 'pointer';\n",
       "            break;\n",
       "        case 1:\n",
       "            cursor = 'default';\n",
       "            break;\n",
       "        case 2:\n",
       "            cursor = 'crosshair';\n",
       "            break;\n",
       "        case 3:\n",
       "            cursor = 'move';\n",
       "            break;\n",
       "    }\n",
       "    fig.rubberband_canvas.style.cursor = cursor;\n",
       "};\n",
       "\n",
       "mpl.figure.prototype.handle_message = function (fig, msg) {\n",
       "    fig.message.textContent = msg['message'];\n",
       "};\n",
       "\n",
       "mpl.figure.prototype.handle_draw = function (fig, _msg) {\n",
       "    // Request the server to send over a new figure.\n",
       "    fig.send_draw_message();\n",
       "};\n",
       "\n",
       "mpl.figure.prototype.handle_image_mode = function (fig, msg) {\n",
       "    fig.image_mode = msg['mode'];\n",
       "};\n",
       "\n",
       "mpl.figure.prototype.handle_history_buttons = function (fig, msg) {\n",
       "    for (var key in msg) {\n",
       "        if (!(key in fig.buttons)) {\n",
       "            continue;\n",
       "        }\n",
       "        fig.buttons[key].disabled = !msg[key];\n",
       "        fig.buttons[key].setAttribute('aria-disabled', !msg[key]);\n",
       "    }\n",
       "};\n",
       "\n",
       "mpl.figure.prototype.handle_navigate_mode = function (fig, msg) {\n",
       "    if (msg['mode'] === 'PAN') {\n",
       "        fig.buttons['Pan'].classList.add('active');\n",
       "        fig.buttons['Zoom'].classList.remove('active');\n",
       "    } else if (msg['mode'] === 'ZOOM') {\n",
       "        fig.buttons['Pan'].classList.remove('active');\n",
       "        fig.buttons['Zoom'].classList.add('active');\n",
       "    } else {\n",
       "        fig.buttons['Pan'].classList.remove('active');\n",
       "        fig.buttons['Zoom'].classList.remove('active');\n",
       "    }\n",
       "};\n",
       "\n",
       "mpl.figure.prototype.updated_canvas_event = function () {\n",
       "    // Called whenever the canvas gets updated.\n",
       "    this.send_message('ack', {});\n",
       "};\n",
       "\n",
       "// A function to construct a web socket function for onmessage handling.\n",
       "// Called in the figure constructor.\n",
       "mpl.figure.prototype._make_on_message_function = function (fig) {\n",
       "    return function socket_on_message(evt) {\n",
       "        if (evt.data instanceof Blob) {\n",
       "            /* FIXME: We get \"Resource interpreted as Image but\n",
       "             * transferred with MIME type text/plain:\" errors on\n",
       "             * Chrome.  But how to set the MIME type?  It doesn't seem\n",
       "             * to be part of the websocket stream */\n",
       "            evt.data.type = 'image/png';\n",
       "\n",
       "            /* Free the memory for the previous frames */\n",
       "            if (fig.imageObj.src) {\n",
       "                (window.URL || window.webkitURL).revokeObjectURL(\n",
       "                    fig.imageObj.src\n",
       "                );\n",
       "            }\n",
       "\n",
       "            fig.imageObj.src = (window.URL || window.webkitURL).createObjectURL(\n",
       "                evt.data\n",
       "            );\n",
       "            fig.updated_canvas_event();\n",
       "            fig.waiting = false;\n",
       "            return;\n",
       "        } else if (\n",
       "            typeof evt.data === 'string' &&\n",
       "            evt.data.slice(0, 21) === 'data:image/png;base64'\n",
       "        ) {\n",
       "            fig.imageObj.src = evt.data;\n",
       "            fig.updated_canvas_event();\n",
       "            fig.waiting = false;\n",
       "            return;\n",
       "        }\n",
       "\n",
       "        var msg = JSON.parse(evt.data);\n",
       "        var msg_type = msg['type'];\n",
       "\n",
       "        // Call the  \"handle_{type}\" callback, which takes\n",
       "        // the figure and JSON message as its only arguments.\n",
       "        try {\n",
       "            var callback = fig['handle_' + msg_type];\n",
       "        } catch (e) {\n",
       "            console.log(\n",
       "                \"No handler for the '\" + msg_type + \"' message type: \",\n",
       "                msg\n",
       "            );\n",
       "            return;\n",
       "        }\n",
       "\n",
       "        if (callback) {\n",
       "            try {\n",
       "                // console.log(\"Handling '\" + msg_type + \"' message: \", msg);\n",
       "                callback(fig, msg);\n",
       "            } catch (e) {\n",
       "                console.log(\n",
       "                    \"Exception inside the 'handler_\" + msg_type + \"' callback:\",\n",
       "                    e,\n",
       "                    e.stack,\n",
       "                    msg\n",
       "                );\n",
       "            }\n",
       "        }\n",
       "    };\n",
       "};\n",
       "\n",
       "// from http://stackoverflow.com/questions/1114465/getting-mouse-location-in-canvas\n",
       "mpl.findpos = function (e) {\n",
       "    //this section is from http://www.quirksmode.org/js/events_properties.html\n",
       "    var targ;\n",
       "    if (!e) {\n",
       "        e = window.event;\n",
       "    }\n",
       "    if (e.target) {\n",
       "        targ = e.target;\n",
       "    } else if (e.srcElement) {\n",
       "        targ = e.srcElement;\n",
       "    }\n",
       "    if (targ.nodeType === 3) {\n",
       "        // defeat Safari bug\n",
       "        targ = targ.parentNode;\n",
       "    }\n",
       "\n",
       "    // pageX,Y are the mouse positions relative to the document\n",
       "    var boundingRect = targ.getBoundingClientRect();\n",
       "    var x = e.pageX - (boundingRect.left + document.body.scrollLeft);\n",
       "    var y = e.pageY - (boundingRect.top + document.body.scrollTop);\n",
       "\n",
       "    return { x: x, y: y };\n",
       "};\n",
       "\n",
       "/*\n",
       " * return a copy of an object with only non-object keys\n",
       " * we need this to avoid circular references\n",
       " * http://stackoverflow.com/a/24161582/3208463\n",
       " */\n",
       "function simpleKeys(original) {\n",
       "    return Object.keys(original).reduce(function (obj, key) {\n",
       "        if (typeof original[key] !== 'object') {\n",
       "            obj[key] = original[key];\n",
       "        }\n",
       "        return obj;\n",
       "    }, {});\n",
       "}\n",
       "\n",
       "mpl.figure.prototype.mouse_event = function (event, name) {\n",
       "    var canvas_pos = mpl.findpos(event);\n",
       "\n",
       "    if (name === 'button_press') {\n",
       "        this.canvas.focus();\n",
       "        this.canvas_div.focus();\n",
       "    }\n",
       "\n",
       "    var x = canvas_pos.x * this.ratio;\n",
       "    var y = canvas_pos.y * this.ratio;\n",
       "\n",
       "    this.send_message(name, {\n",
       "        x: x,\n",
       "        y: y,\n",
       "        button: event.button,\n",
       "        step: event.step,\n",
       "        guiEvent: simpleKeys(event),\n",
       "    });\n",
       "\n",
       "    /* This prevents the web browser from automatically changing to\n",
       "     * the text insertion cursor when the button is pressed.  We want\n",
       "     * to control all of the cursor setting manually through the\n",
       "     * 'cursor' event from matplotlib */\n",
       "    event.preventDefault();\n",
       "    return false;\n",
       "};\n",
       "\n",
       "mpl.figure.prototype._key_event_extra = function (_event, _name) {\n",
       "    // Handle any extra behaviour associated with a key event\n",
       "};\n",
       "\n",
       "mpl.figure.prototype.key_event = function (event, name) {\n",
       "    // Prevent repeat events\n",
       "    if (name === 'key_press') {\n",
       "        if (event.which === this._key) {\n",
       "            return;\n",
       "        } else {\n",
       "            this._key = event.which;\n",
       "        }\n",
       "    }\n",
       "    if (name === 'key_release') {\n",
       "        this._key = null;\n",
       "    }\n",
       "\n",
       "    var value = '';\n",
       "    if (event.ctrlKey && event.which !== 17) {\n",
       "        value += 'ctrl+';\n",
       "    }\n",
       "    if (event.altKey && event.which !== 18) {\n",
       "        value += 'alt+';\n",
       "    }\n",
       "    if (event.shiftKey && event.which !== 16) {\n",
       "        value += 'shift+';\n",
       "    }\n",
       "\n",
       "    value += 'k';\n",
       "    value += event.which.toString();\n",
       "\n",
       "    this._key_event_extra(event, name);\n",
       "\n",
       "    this.send_message(name, { key: value, guiEvent: simpleKeys(event) });\n",
       "    return false;\n",
       "};\n",
       "\n",
       "mpl.figure.prototype.toolbar_button_onclick = function (name) {\n",
       "    if (name === 'download') {\n",
       "        this.handle_save(this, null);\n",
       "    } else {\n",
       "        this.send_message('toolbar_button', { name: name });\n",
       "    }\n",
       "};\n",
       "\n",
       "mpl.figure.prototype.toolbar_button_onmouseover = function (tooltip) {\n",
       "    this.message.textContent = tooltip;\n",
       "};\n",
       "\n",
       "///////////////// REMAINING CONTENT GENERATED BY embed_js.py /////////////////\n",
       "// prettier-ignore\n",
       "var _JSXTOOLS_RESIZE_OBSERVER=function(A){var t,i=new WeakMap,n=new WeakMap,a=new WeakMap,r=new WeakMap,o=new Set;function s(e){if(!(this instanceof s))throw new TypeError(\"Constructor requires 'new' operator\");i.set(this,e)}function h(){throw new TypeError(\"Function is not a constructor\")}function c(e,t,i,n){e=0 in arguments?Number(arguments[0]):0,t=1 in arguments?Number(arguments[1]):0,i=2 in arguments?Number(arguments[2]):0,n=3 in arguments?Number(arguments[3]):0,this.right=(this.x=this.left=e)+(this.width=i),this.bottom=(this.y=this.top=t)+(this.height=n),Object.freeze(this)}function d(){t=requestAnimationFrame(d);var s=new WeakMap,p=new Set;o.forEach((function(t){r.get(t).forEach((function(i){var r=t instanceof window.SVGElement,o=a.get(t),d=r?0:parseFloat(o.paddingTop),f=r?0:parseFloat(o.paddingRight),l=r?0:parseFloat(o.paddingBottom),u=r?0:parseFloat(o.paddingLeft),g=r?0:parseFloat(o.borderTopWidth),m=r?0:parseFloat(o.borderRightWidth),w=r?0:parseFloat(o.borderBottomWidth),b=u+f,F=d+l,v=(r?0:parseFloat(o.borderLeftWidth))+m,W=g+w,y=r?0:t.offsetHeight-W-t.clientHeight,E=r?0:t.offsetWidth-v-t.clientWidth,R=b+v,z=F+W,M=r?t.width:parseFloat(o.width)-R-E,O=r?t.height:parseFloat(o.height)-z-y;if(n.has(t)){var k=n.get(t);if(k[0]===M&&k[1]===O)return}n.set(t,[M,O]);var S=Object.create(h.prototype);S.target=t,S.contentRect=new c(u,d,M,O),s.has(i)||(s.set(i,[]),p.add(i)),s.get(i).push(S)}))})),p.forEach((function(e){i.get(e).call(e,s.get(e),e)}))}return s.prototype.observe=function(i){if(i instanceof window.Element){r.has(i)||(r.set(i,new Set),o.add(i),a.set(i,window.getComputedStyle(i)));var n=r.get(i);n.has(this)||n.add(this),cancelAnimationFrame(t),t=requestAnimationFrame(d)}},s.prototype.unobserve=function(i){if(i instanceof window.Element&&r.has(i)){var n=r.get(i);n.has(this)&&(n.delete(this),n.size||(r.delete(i),o.delete(i))),n.size||r.delete(i),o.size||cancelAnimationFrame(t)}},A.DOMRectReadOnly=c,A.ResizeObserver=s,A.ResizeObserverEntry=h,A}; // eslint-disable-line\n",
       "mpl.toolbar_items = [[\"Home\", \"Reset original view\", \"fa fa-home icon-home\", \"home\"], [\"Back\", \"Back to previous view\", \"fa fa-arrow-left icon-arrow-left\", \"back\"], [\"Forward\", \"Forward to next view\", \"fa fa-arrow-right icon-arrow-right\", \"forward\"], [\"\", \"\", \"\", \"\"], [\"Pan\", \"Left button pans, Right button zooms\\nx/y fixes axis, CTRL fixes aspect\", \"fa fa-arrows icon-move\", \"pan\"], [\"Zoom\", \"Zoom to rectangle\\nx/y fixes axis, CTRL fixes aspect\", \"fa fa-square-o icon-check-empty\", \"zoom\"], [\"\", \"\", \"\", \"\"], [\"Download\", \"Download plot\", \"fa fa-floppy-o icon-save\", \"download\"]];\n",
       "\n",
       "mpl.extensions = [\"eps\", \"jpeg\", \"pdf\", \"png\", \"ps\", \"raw\", \"svg\", \"tif\"];\n",
       "\n",
       "mpl.default_extension = \"png\";/* global mpl */\n",
       "\n",
       "var comm_websocket_adapter = function (comm) {\n",
       "    // Create a \"websocket\"-like object which calls the given IPython comm\n",
       "    // object with the appropriate methods. Currently this is a non binary\n",
       "    // socket, so there is still some room for performance tuning.\n",
       "    var ws = {};\n",
       "\n",
       "    ws.close = function () {\n",
       "        comm.close();\n",
       "    };\n",
       "    ws.send = function (m) {\n",
       "        //console.log('sending', m);\n",
       "        comm.send(m);\n",
       "    };\n",
       "    // Register the callback with on_msg.\n",
       "    comm.on_msg(function (msg) {\n",
       "        //console.log('receiving', msg['content']['data'], msg);\n",
       "        // Pass the mpl event to the overridden (by mpl) onmessage function.\n",
       "        ws.onmessage(msg['content']['data']);\n",
       "    });\n",
       "    return ws;\n",
       "};\n",
       "\n",
       "mpl.mpl_figure_comm = function (comm, msg) {\n",
       "    // This is the function which gets called when the mpl process\n",
       "    // starts-up an IPython Comm through the \"matplotlib\" channel.\n",
       "\n",
       "    var id = msg.content.data.id;\n",
       "    // Get hold of the div created by the display call when the Comm\n",
       "    // socket was opened in Python.\n",
       "    var element = document.getElementById(id);\n",
       "    var ws_proxy = comm_websocket_adapter(comm);\n",
       "\n",
       "    function ondownload(figure, _format) {\n",
       "        window.open(figure.canvas.toDataURL());\n",
       "    }\n",
       "\n",
       "    var fig = new mpl.figure(id, ws_proxy, ondownload, element);\n",
       "\n",
       "    // Call onopen now - mpl needs it, as it is assuming we've passed it a real\n",
       "    // web socket which is closed, not our websocket->open comm proxy.\n",
       "    ws_proxy.onopen();\n",
       "\n",
       "    fig.parent_element = element;\n",
       "    fig.cell_info = mpl.find_output_cell(\"<div id='\" + id + \"'></div>\");\n",
       "    if (!fig.cell_info) {\n",
       "        console.error('Failed to find cell for figure', id, fig);\n",
       "        return;\n",
       "    }\n",
       "    fig.cell_info[0].output_area.element.on(\n",
       "        'cleared',\n",
       "        { fig: fig },\n",
       "        fig._remove_fig_handler\n",
       "    );\n",
       "};\n",
       "\n",
       "mpl.figure.prototype.handle_close = function (fig, msg) {\n",
       "    var width = fig.canvas.width / fig.ratio;\n",
       "    fig.cell_info[0].output_area.element.off(\n",
       "        'cleared',\n",
       "        fig._remove_fig_handler\n",
       "    );\n",
       "    fig.resizeObserverInstance.unobserve(fig.canvas_div);\n",
       "\n",
       "    // Update the output cell to use the data from the current canvas.\n",
       "    fig.push_to_output();\n",
       "    var dataURL = fig.canvas.toDataURL();\n",
       "    // Re-enable the keyboard manager in IPython - without this line, in FF,\n",
       "    // the notebook keyboard shortcuts fail.\n",
       "    IPython.keyboard_manager.enable();\n",
       "    fig.parent_element.innerHTML =\n",
       "        '<img src=\"' + dataURL + '\" width=\"' + width + '\">';\n",
       "    fig.close_ws(fig, msg);\n",
       "};\n",
       "\n",
       "mpl.figure.prototype.close_ws = function (fig, msg) {\n",
       "    fig.send_message('closing', msg);\n",
       "    // fig.ws.close()\n",
       "};\n",
       "\n",
       "mpl.figure.prototype.push_to_output = function (_remove_interactive) {\n",
       "    // Turn the data on the canvas into data in the output cell.\n",
       "    var width = this.canvas.width / this.ratio;\n",
       "    var dataURL = this.canvas.toDataURL();\n",
       "    this.cell_info[1]['text/html'] =\n",
       "        '<img src=\"' + dataURL + '\" width=\"' + width + '\">';\n",
       "};\n",
       "\n",
       "mpl.figure.prototype.updated_canvas_event = function () {\n",
       "    // Tell IPython that the notebook contents must change.\n",
       "    IPython.notebook.set_dirty(true);\n",
       "    this.send_message('ack', {});\n",
       "    var fig = this;\n",
       "    // Wait a second, then push the new image to the DOM so\n",
       "    // that it is saved nicely (might be nice to debounce this).\n",
       "    setTimeout(function () {\n",
       "        fig.push_to_output();\n",
       "    }, 1000);\n",
       "};\n",
       "\n",
       "mpl.figure.prototype._init_toolbar = function () {\n",
       "    var fig = this;\n",
       "\n",
       "    var toolbar = document.createElement('div');\n",
       "    toolbar.classList = 'btn-toolbar';\n",
       "    this.root.appendChild(toolbar);\n",
       "\n",
       "    function on_click_closure(name) {\n",
       "        return function (_event) {\n",
       "            return fig.toolbar_button_onclick(name);\n",
       "        };\n",
       "    }\n",
       "\n",
       "    function on_mouseover_closure(tooltip) {\n",
       "        return function (event) {\n",
       "            if (!event.currentTarget.disabled) {\n",
       "                return fig.toolbar_button_onmouseover(tooltip);\n",
       "            }\n",
       "        };\n",
       "    }\n",
       "\n",
       "    fig.buttons = {};\n",
       "    var buttonGroup = document.createElement('div');\n",
       "    buttonGroup.classList = 'btn-group';\n",
       "    var button;\n",
       "    for (var toolbar_ind in mpl.toolbar_items) {\n",
       "        var name = mpl.toolbar_items[toolbar_ind][0];\n",
       "        var tooltip = mpl.toolbar_items[toolbar_ind][1];\n",
       "        var image = mpl.toolbar_items[toolbar_ind][2];\n",
       "        var method_name = mpl.toolbar_items[toolbar_ind][3];\n",
       "\n",
       "        if (!name) {\n",
       "            /* Instead of a spacer, we start a new button group. */\n",
       "            if (buttonGroup.hasChildNodes()) {\n",
       "                toolbar.appendChild(buttonGroup);\n",
       "            }\n",
       "            buttonGroup = document.createElement('div');\n",
       "            buttonGroup.classList = 'btn-group';\n",
       "            continue;\n",
       "        }\n",
       "\n",
       "        button = fig.buttons[name] = document.createElement('button');\n",
       "        button.classList = 'btn btn-default';\n",
       "        button.href = '#';\n",
       "        button.title = name;\n",
       "        button.innerHTML = '<i class=\"fa ' + image + ' fa-lg\"></i>';\n",
       "        button.addEventListener('click', on_click_closure(method_name));\n",
       "        button.addEventListener('mouseover', on_mouseover_closure(tooltip));\n",
       "        buttonGroup.appendChild(button);\n",
       "    }\n",
       "\n",
       "    if (buttonGroup.hasChildNodes()) {\n",
       "        toolbar.appendChild(buttonGroup);\n",
       "    }\n",
       "\n",
       "    // Add the status bar.\n",
       "    var status_bar = document.createElement('span');\n",
       "    status_bar.classList = 'mpl-message pull-right';\n",
       "    toolbar.appendChild(status_bar);\n",
       "    this.message = status_bar;\n",
       "\n",
       "    // Add the close button to the window.\n",
       "    var buttongrp = document.createElement('div');\n",
       "    buttongrp.classList = 'btn-group inline pull-right';\n",
       "    button = document.createElement('button');\n",
       "    button.classList = 'btn btn-mini btn-primary';\n",
       "    button.href = '#';\n",
       "    button.title = 'Stop Interaction';\n",
       "    button.innerHTML = '<i class=\"fa fa-power-off icon-remove icon-large\"></i>';\n",
       "    button.addEventListener('click', function (_evt) {\n",
       "        fig.handle_close(fig, {});\n",
       "    });\n",
       "    button.addEventListener(\n",
       "        'mouseover',\n",
       "        on_mouseover_closure('Stop Interaction')\n",
       "    );\n",
       "    buttongrp.appendChild(button);\n",
       "    var titlebar = this.root.querySelector('.ui-dialog-titlebar');\n",
       "    titlebar.insertBefore(buttongrp, titlebar.firstChild);\n",
       "};\n",
       "\n",
       "mpl.figure.prototype._remove_fig_handler = function (event) {\n",
       "    var fig = event.data.fig;\n",
       "    if (event.target !== this) {\n",
       "        // Ignore bubbled events from children.\n",
       "        return;\n",
       "    }\n",
       "    fig.close_ws(fig, {});\n",
       "};\n",
       "\n",
       "mpl.figure.prototype._root_extra_style = function (el) {\n",
       "    el.style.boxSizing = 'content-box'; // override notebook setting of border-box.\n",
       "};\n",
       "\n",
       "mpl.figure.prototype._canvas_extra_style = function (el) {\n",
       "    // this is important to make the div 'focusable\n",
       "    el.setAttribute('tabindex', 0);\n",
       "    // reach out to IPython and tell the keyboard manager to turn it's self\n",
       "    // off when our div gets focus\n",
       "\n",
       "    // location in version 3\n",
       "    if (IPython.notebook.keyboard_manager) {\n",
       "        IPython.notebook.keyboard_manager.register_events(el);\n",
       "    } else {\n",
       "        // location in version 2\n",
       "        IPython.keyboard_manager.register_events(el);\n",
       "    }\n",
       "};\n",
       "\n",
       "mpl.figure.prototype._key_event_extra = function (event, _name) {\n",
       "    var manager = IPython.notebook.keyboard_manager;\n",
       "    if (!manager) {\n",
       "        manager = IPython.keyboard_manager;\n",
       "    }\n",
       "\n",
       "    // Check for shift+enter\n",
       "    if (event.shiftKey && event.which === 13) {\n",
       "        this.canvas_div.blur();\n",
       "        // select the cell after this one\n",
       "        var index = IPython.notebook.find_cell_index(this.cell_info[0]);\n",
       "        IPython.notebook.select(index + 1);\n",
       "    }\n",
       "};\n",
       "\n",
       "mpl.figure.prototype.handle_save = function (fig, _msg) {\n",
       "    fig.ondownload(fig, null);\n",
       "};\n",
       "\n",
       "mpl.find_output_cell = function (html_output) {\n",
       "    // Return the cell and output element which can be found *uniquely* in the notebook.\n",
       "    // Note - this is a bit hacky, but it is done because the \"notebook_saving.Notebook\"\n",
       "    // IPython event is triggered only after the cells have been serialised, which for\n",
       "    // our purposes (turning an active figure into a static one), is too late.\n",
       "    var cells = IPython.notebook.get_cells();\n",
       "    var ncells = cells.length;\n",
       "    for (var i = 0; i < ncells; i++) {\n",
       "        var cell = cells[i];\n",
       "        if (cell.cell_type === 'code') {\n",
       "            for (var j = 0; j < cell.output_area.outputs.length; j++) {\n",
       "                var data = cell.output_area.outputs[j];\n",
       "                if (data.data) {\n",
       "                    // IPython >= 3 moved mimebundle to data attribute of output\n",
       "                    data = data.data;\n",
       "                }\n",
       "                if (data['text/html'] === html_output) {\n",
       "                    return [cell, data, j];\n",
       "                }\n",
       "            }\n",
       "        }\n",
       "    }\n",
       "};\n",
       "\n",
       "// Register the function which deals with the matplotlib target/channel.\n",
       "// The kernel may be null if the page has been refreshed.\n",
       "if (IPython.notebook.kernel !== null) {\n",
       "    IPython.notebook.kernel.comm_manager.register_target(\n",
       "        'matplotlib',\n",
       "        mpl.mpl_figure_comm\n",
       "    );\n",
       "}\n"
      ],
      "text/plain": [
       "<IPython.core.display.Javascript object>"
      ]
     },
     "metadata": {},
     "output_type": "display_data"
    },
    {
     "data": {
      "text/html": [
       "<img src=\"data:image/png;base64,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\" width=\"640\">"
      ],
      "text/plain": [
       "<IPython.core.display.HTML object>"
      ]
     },
     "metadata": {},
     "output_type": "display_data"
    }
   ],
   "source": [
    "import matplotlib.pyplot as plt\n",
    "from matplotlib import cm\n",
    "from matplotlib.ticker import LinearLocator\n",
    "import numpy as np\n",
    "%matplotlib notebook\n",
    "\n",
    "fig = plt.figure()\n",
    "ax = fig.gca(projection='3d')\n",
    "\n",
    "# Make data.\n",
    "'''\n",
    "X = np.reshape(prim[:, 0], (2,2))\n",
    "Y = np.reshape(prim[:, 1], (2,2))\n",
    "Z = np.reshape(prim[:, 2], (2,2))\n",
    "'''\n",
    "\n",
    "# Plot the surface.\n",
    "\n",
    "for quad in quads:\n",
    "    \n",
    "    points = pts[quad]\n",
    "    \n",
    "    X = np.array([points[:2, 0], points[2:, 0][::-1]])\n",
    "    Y = np.array([points[:2, 1], points[2:, 1][::-1]])\n",
    "    Z = np.array([points[:2, 2], points[2:, 2][::-1]])\n",
    "\n",
    "    ax.plot_surface(X, Y, Z, cmap=cm.coolwarm,\n",
    "                    linewidth=0, antialiased=True)\n",
    "\n",
    "# Customize the z axis.\n",
    "ax.zaxis.set_major_locator(LinearLocator(10))\n",
    "# A StrMethodFormatter is used automatically\n",
    "ax.zaxis.set_major_formatter('{x:.02f}')\n",
    "\n",
    "# Add a color bar which maps values to colors.\n",
    "# fig.colorbar(surf, shrink=0.5, aspect=5)\n",
    "\n",
    "plt.show()"
   ]
  },
  {
   "cell_type": "code",
   "execution_count": 182,
   "id": "prostate-nicaragua",
   "metadata": {},
   "outputs": [
    {
     "data": {
      "text/plain": [
       "1050.0"
      ]
     },
     "execution_count": 182,
     "metadata": {},
     "output_type": "execute_result"
    }
   ],
   "source": [
    "15*25*2.8"
   ]
  },
  {
   "cell_type": "code",
   "execution_count": 171,
   "id": "subsequent-audience",
   "metadata": {},
   "outputs": [
    {
     "name": "stderr",
     "output_type": "stream",
     "text": [
      "<ipython-input-171-74b96ebc0a0c>:1: VisibleDeprecationWarning: Creating an ndarray from ragged nested sequences (which is a list-or-tuple of lists-or-tuples-or ndarrays with different lengths or shapes) is deprecated. If you meant to do this, you must specify 'dtype=object' when creating the ndarray.\n",
      "  X = np.array([points[:2, 1], points[2:4:-1, 1]])\n"
     ]
    }
   ],
   "source": [
    "X = np.array([points[:2, 1], points[2:4:-1, 1]])"
   ]
  },
  {
   "cell_type": "code",
   "execution_count": 166,
   "id": "sunset-harvest",
   "metadata": {},
   "outputs": [
    {
     "data": {
      "text/plain": [
       "array([[ 0.   , 24.39 ,  2.519],\n",
       "       [ 0.   , 24.3  ,  2.485],\n",
       "       [ 0.09 , 24.3  ,  2.548],\n",
       "       [ 0.09 , 24.39 ,  2.552]])"
      ]
     },
     "execution_count": 166,
     "metadata": {},
     "output_type": "execute_result"
    }
   ],
   "source": [
    "points"
   ]
  },
  {
   "cell_type": "code",
   "execution_count": 165,
   "id": "legal-contractor",
   "metadata": {},
   "outputs": [
    {
     "data": {
      "text/plain": [
       "array([24.39, 24.3 , 24.3 , 24.39])"
      ]
     },
     "execution_count": 165,
     "metadata": {},
     "output_type": "execute_result"
    }
   ],
   "source": [
    "points[:, 1]"
   ]
  },
  {
   "cell_type": "code",
   "execution_count": 121,
   "id": "capital-danger",
   "metadata": {},
   "outputs": [
    {
     "data": {
      "text/plain": [
       "array([0.09, 0.09])"
      ]
     },
     "execution_count": 121,
     "metadata": {},
     "output_type": "execute_result"
    }
   ],
   "source": [
    "points[-2:4, 0]"
   ]
  },
  {
   "cell_type": "code",
   "execution_count": 117,
   "id": "olive-spread",
   "metadata": {},
   "outputs": [
    {
     "data": {
      "text/plain": [
       "array([[0., 0.],\n",
       "       [0., 0.]])"
      ]
     },
     "metadata": {},
     "output_type": "display_data"
    },
    {
     "data": {
      "text/plain": [
       "array([[24.39, 24.3 ],\n",
       "       [24.39, 24.3 ]])"
      ]
     },
     "metadata": {},
     "output_type": "display_data"
    },
    {
     "data": {
      "text/plain": [
       "array([[2.519, 2.485],\n",
       "       [2.519, 2.485]])"
      ]
     },
     "metadata": {},
     "output_type": "display_data"
    }
   ],
   "source": [
    "display(X, Y, Z)"
   ]
  },
  {
   "cell_type": "code",
   "execution_count": 93,
   "id": "upper-association",
   "metadata": {},
   "outputs": [
    {
     "data": {
      "text/plain": [
       "array([[ 0.   , 24.39 ,  2.519],\n",
       "       [ 0.   , 24.3  ,  2.485],\n",
       "       [ 0.09 , 24.3  ,  2.548],\n",
       "       [ 0.09 , 24.39 ,  2.552]])"
      ]
     },
     "execution_count": 93,
     "metadata": {},
     "output_type": "execute_result"
    }
   ],
   "source": [
    "points"
   ]
  },
  {
   "cell_type": "code",
   "execution_count": 105,
   "id": "isolated-segment",
   "metadata": {},
   "outputs": [
    {
     "data": {
      "text/plain": [
       "array([[24.39, 24.3 ],\n",
       "       [24.39, 24.3 ]])"
      ]
     },
     "execution_count": 105,
     "metadata": {},
     "output_type": "execute_result"
    }
   ],
   "source": [
    "np.array([points[:2, 1], points[-4:-2, 1]])"
   ]
  },
  {
   "cell_type": "code",
   "execution_count": 102,
   "id": "documentary-devices",
   "metadata": {},
   "outputs": [
    {
     "data": {
      "text/plain": [
       "array([[24.39, 24.3 ],\n",
       "       [24.3 , 24.39]])"
      ]
     },
     "execution_count": 102,
     "metadata": {},
     "output_type": "execute_result"
    }
   ],
   "source": [
    "points[:, 1].reshape(2,2)"
   ]
  }
 ],
 "metadata": {
  "kernelspec": {
   "display_name": "Python 3",
   "language": "python",
   "name": "python3"
  },
  "language_info": {
   "codemirror_mode": {
    "name": "ipython",
    "version": 3
   },
   "file_extension": ".py",
   "mimetype": "text/x-python",
   "name": "python",
   "nbconvert_exporter": "python",
   "pygments_lexer": "ipython3",
   "version": "3.8.5"
  },
  "toc": {
   "base_numbering": 1,
   "nav_menu": {},
   "number_sections": false,
   "sideBar": true,
   "skip_h1_title": false,
   "title_cell": "Table of Contents",
   "title_sidebar": "Contents",
   "toc_cell": false,
   "toc_position": {
    "height": "calc(100% - 180px)",
    "left": "10px",
    "top": "150px",
    "width": "307.2px"
   },
   "toc_section_display": true,
   "toc_window_display": false
  }
 },
 "nbformat": 4,
 "nbformat_minor": 5
}
